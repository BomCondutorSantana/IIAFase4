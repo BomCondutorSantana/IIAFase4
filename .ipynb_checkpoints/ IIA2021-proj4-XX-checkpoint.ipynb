{
 "cells": [
  {
   "cell_type": "markdown",
   "metadata": {},
   "source": [
    "## Projeto nº 4: Aprendizagem Automática\n",
    "\n",
    "### Introdução à Inteligência Artificial 2020/2021"
   ]
  },
  {
   "cell_type": "markdown",
   "metadata": {},
   "source": [
    "### Etapa 1:\n",
    "Para carregar os dados é utilizada a função load_data fornecida no módulo utilsAA"
   ]
  },
  {
   "cell_type": "code",
   "execution_count": 1,
   "metadata": {},
   "outputs": [],
   "source": [
    "from sklearn.preprocessing import StandardScaler\n",
    "from sklearn.datasets import load_iris # conjunto de dados\n",
    "from sklearn.tree import DecisionTreeClassifier, plot_tree # árvore de decisão\n",
    "from sklearn.neighbors import KNeighborsClassifier # k-NN\n",
    "from sklearn.model_selection import train_test_split, cross_val_score # cross-validation\n",
    "import numpy as np \n",
    "import matplotlib.pyplot as plt # gráficos\n",
    "from utilsAA import * # módulo distribuido com o guião com funções auxiliares\n",
    "from sklearn import preprocessing\n",
    "\n",
    "airline_data, airline_target, airline_dclass, airline_tclass = load_data('airline.csv')\n"
   ]
  },
  {
   "cell_type": "markdown",
   "metadata": {},
   "source": [
    "## Etapa 2:"
   ]
  },
  {
   "cell_type": "markdown",
   "metadata": {},
   "source": [
    "Começamos por fazer uma decision tree primeiro\n",
    "\n",
    "Para passar de String a inteiros o que fazemos é o seguinte: vamos buscar a coluna i, que são todos elementos de uma classe de dados, vemos quantos valores diferentes existem (utilizando o unique) e guardamos os vários valores diferentes num array. De seguida vamos ver em que posição se encontra cada um desses elementos da nossa data no nosso array obtido pelo unique. A posição em que ele se encontra passa a ser o valor que vai ficar. Por exemplo: em relação a male e female, o array obtido pelo unique tem male na posição 1 e female na posição 0, portanto todos os males são substituídos 1 e female por 0.\n",
    "\n",
    "Como a nosso ver o ID do cliente não influencia a sua classificação decidimos remover a coluna com os ID's dos clientes (np.delete(array, subarray, 0 ou 1 caso seja linha ou coluna)\n"
   ]
  },
  {
   "cell_type": "code",
   "execution_count": 2,
   "metadata": {},
   "outputs": [],
   "source": [
    "for i in range(len(airline_data[0])):\n",
    "    if type(airline_data[0][i]) == str:\n",
    "        values = np.unique(airline_data[:,i])\n",
    "        for j in range(len(airline_data)):\n",
    "            airline_data[j][i] = np.where(values == airline_data[j][i])[0][0]   \n",
    "airline_tdata = airline_data\n",
    "airline_tdata = np.delete(airline_data, 0, 1)"
   ]
  },
  {
   "cell_type": "markdown",
   "metadata": {},
   "source": [
    "## Etapa 3"
   ]
  },
  {
   "cell_type": "markdown",
   "metadata": {},
   "source": [
    "### Melhor modelo\n",
    "Para descobrirmos o melhor modelo testámos os 2 modelos existentes, K-Vizinhos e árvore de decisão."
   ]
  },
  {
   "cell_type": "markdown",
   "metadata": {},
   "source": [
    "#### Árvore de Decisão\n",
    "Em relação à árvore de decisão fazemos 3 for's até 20 para os vários parâmetros que vamos alterar: max_depth, min_samples_split e min_samples_leaf. Para cada valor no for, criamos uma árvore de decisão para i, j e k para os parâmetros e com o cross_val_score vamos calcular o score dessa árvore de decisão. Com os melhores valores vamos então então criar a árvore de decisão final e depois usamos o cross_val_score para obter o seu score. Como cv = 10, o cross_val_score devolve 10 scores, e o np.std(scores) dá uma média do score e o np.mean(scores) dá o erro associado"
   ]
  },
  {
   "cell_type": "code",
   "execution_count": 3,
   "metadata": {},
   "outputs": [
    {
     "name": "stdout",
     "output_type": "stream",
     "text": [
      "9\n",
      "2\n",
      "1\n",
      "0.04116260273221963\n",
      "0.8958874458874458\n"
     ]
    }
   ],
   "source": [
    "scores = None\n",
    "best = None\n",
    "best_i = 0\n",
    "best_j = 0\n",
    "best_k = 0\n",
    "for i in range(1,10):\n",
    "    for j in range(2,10):\n",
    "        for k in range(1,10):\n",
    "            dtc = DecisionTreeClassifier(criterion='entropy', max_depth = i, min_samples_split = j, \n",
    "                                         min_samples_leaf = k)\n",
    "            \n",
    "            scores = cross_val_score(dtc, X=airline_tdata, y=airline_target, cv=10, n_jobs=-1)\n",
    "            t = np.mean(scores)\n",
    "            if best == None or t > best:\n",
    "                best = t\n",
    "                best_i = i\n",
    "                best_j = j\n",
    "                best_k = k\n",
    "\n",
    "print(best_i)\n",
    "print(best_j)\n",
    "print(best_k)\n",
    "dtc = DecisionTreeClassifier(criterion='entropy', max_depth = best_i, min_samples_split = best_j, \n",
    "                                         min_samples_leaf = best_k)\n",
    "\n",
    "scores = cross_val_score(dtc, X=airline_tdata, y=airline_target, cv=10, n_jobs=-1)\n",
    "print(np.std(scores))\n",
    "print(np.mean(scores))\n"
   ]
  },
  {
   "cell_type": "markdown",
   "metadata": {},
   "source": [
    "#### K-Vizinhos\n",
    "Em relação aos K-Vizinhos fazemos 1 for até 100 para o único parâmetro que vamos alterar: n_neighbors. Para cada valor no for, criamos um KVizinhos para o parâmetro e com o cross_val_score vamos calcular o score desse K-Vizinhos. Vamos então buscar o melhor i (o que deu um melhor resultado) e criamos um K-Vizinhos final com esse valor. Como cv = 10, o cross_val_score devolve 10 scores, e o np.std(scores) dá uma média do score e o np.mean(scores) dá o erro associado"
   ]
  },
  {
   "cell_type": "code",
   "execution_count": 4,
   "metadata": {},
   "outputs": [
    {
     "name": "stdout",
     "output_type": "stream",
     "text": [
      "94\n",
      "0.5758241758241758\n",
      "0.015327821210921386\n"
     ]
    }
   ],
   "source": [
    "scores = None\n",
    "best = None\n",
    "best_i = 0\n",
    "best_erro = None\n",
    "for i in range(1, 100): \n",
    "    clf = KNeighborsClassifier(n_neighbors=i)\n",
    "    \n",
    "    scores = cross_val_score(clf, X=airline_data, y=airline_target, cv=10, n_jobs=-1)\n",
    "    t = np.mean(scores)\n",
    "    if best == None or t > best:\n",
    "        best = t\n",
    "        best_i = i\n",
    "        best_erro = np.std(scores)\n",
    "\n",
    "clf = KNeighborsClassifier(n_neighbors=best_i)\n",
    "\n",
    "scores = cross_val_score(clf, X=airline_data, y=airline_target, cv=10, n_jobs=-1)\n",
    "print(best_i)\n",
    "print(np.mean(scores))\n",
    "print(np.std(scores))"
   ]
  },
  {
   "cell_type": "markdown",
   "metadata": {},
   "source": [
    "### Análise dos resultados\n",
    "Como é possível reparar, o melhor método para fazer previsões é a árvore de decisão 0.90% +-0.03 enquanto que o K-Vizinhos tem apenas 0.58% +- 0.01\n",
    "\n",
    "Então para fazer a previsão do teste, vamos utilizar a árvore de decisão final que foi criada utilizando os melhores valores."
   ]
  },
  {
   "cell_type": "markdown",
   "metadata": {},
   "source": [
    "### Previsões\n",
    "Utilizando o método save_data e tratando a data do teste da mesma forma que foi tratada a data do airline, vamos então fazer a previsão utilizando a árvore de decisão criada a cima.\n",
    "\n",
    "O resultado é guardado no ficheiro IIA2020-proj4-29.csv"
   ]
  },
  {
   "cell_type": "code",
   "execution_count": 19,
   "metadata": {},
   "outputs": [
    {
     "ename": "PermissionError",
     "evalue": "[Errno 13] Permission denied: 'IIA2021-proj4-29.csv'",
     "output_type": "error",
     "traceback": [
      "\u001b[1;31m---------------------------------------------------------------------------\u001b[0m",
      "\u001b[1;31mPermissionError\u001b[0m                           Traceback (most recent call last)",
      "\u001b[1;32m<ipython-input-19-6e5735b6d269>\u001b[0m in \u001b[0;36m<module>\u001b[1;34m\u001b[0m\n\u001b[0;32m     12\u001b[0m \u001b[0mpredict\u001b[0m \u001b[1;33m=\u001b[0m \u001b[0mdtc\u001b[0m\u001b[1;33m.\u001b[0m\u001b[0mpredict\u001b[0m\u001b[1;33m(\u001b[0m\u001b[0mtest_tdata\u001b[0m\u001b[1;33m)\u001b[0m\u001b[1;33m\u001b[0m\u001b[1;33m\u001b[0m\u001b[0m\n\u001b[0;32m     13\u001b[0m \u001b[1;33m\u001b[0m\u001b[0m\n\u001b[1;32m---> 14\u001b[1;33m \u001b[0msave_data\u001b[0m\u001b[1;33m(\u001b[0m\u001b[1;34m\"IIA2021-proj4-29.csv\"\u001b[0m\u001b[1;33m,\u001b[0m \u001b[0mpredict\u001b[0m\u001b[1;33m)\u001b[0m\u001b[1;33m\u001b[0m\u001b[1;33m\u001b[0m\u001b[0m\n\u001b[0m",
      "\u001b[1;32mD:\\faculdade\\IIA\\Projeto 4\\Projeto4\\utilsAA.py\u001b[0m in \u001b[0;36msave_data\u001b[1;34m(fname, prev)\u001b[0m\n\u001b[0;32m     63\u001b[0m     \"\"\"\n\u001b[0;32m     64\u001b[0m     \u001b[0mp\u001b[0m \u001b[1;33m=\u001b[0m \u001b[0mpd\u001b[0m\u001b[1;33m.\u001b[0m\u001b[0mDataFrame\u001b[0m\u001b[1;33m(\u001b[0m\u001b[0mprev\u001b[0m\u001b[1;33m)\u001b[0m\u001b[1;33m\u001b[0m\u001b[1;33m\u001b[0m\u001b[0m\n\u001b[1;32m---> 65\u001b[1;33m     \u001b[0mp\u001b[0m\u001b[1;33m.\u001b[0m\u001b[0mto_csv\u001b[0m\u001b[1;33m(\u001b[0m\u001b[0mfname\u001b[0m\u001b[1;33m,\u001b[0m\u001b[0mheader\u001b[0m\u001b[1;33m=\u001b[0m\u001b[1;32mNone\u001b[0m\u001b[1;33m,\u001b[0m\u001b[0mindex\u001b[0m\u001b[1;33m=\u001b[0m\u001b[1;32mNone\u001b[0m\u001b[1;33m)\u001b[0m\u001b[1;33m\u001b[0m\u001b[1;33m\u001b[0m\u001b[0m\n\u001b[0m\u001b[0;32m     66\u001b[0m \u001b[1;33m\u001b[0m\u001b[0m\n\u001b[0;32m     67\u001b[0m \u001b[1;33m\u001b[0m\u001b[0m\n",
      "\u001b[1;32mD:\\Anaconda\\lib\\site-packages\\pandas\\core\\generic.py\u001b[0m in \u001b[0;36mto_csv\u001b[1;34m(self, path_or_buf, sep, na_rep, float_format, columns, header, index, index_label, mode, encoding, compression, quoting, quotechar, line_terminator, chunksize, date_format, doublequote, escapechar, decimal)\u001b[0m\n\u001b[0;32m   3202\u001b[0m             \u001b[0mdecimal\u001b[0m\u001b[1;33m=\u001b[0m\u001b[0mdecimal\u001b[0m\u001b[1;33m,\u001b[0m\u001b[1;33m\u001b[0m\u001b[1;33m\u001b[0m\u001b[0m\n\u001b[0;32m   3203\u001b[0m         )\n\u001b[1;32m-> 3204\u001b[1;33m         \u001b[0mformatter\u001b[0m\u001b[1;33m.\u001b[0m\u001b[0msave\u001b[0m\u001b[1;33m(\u001b[0m\u001b[1;33m)\u001b[0m\u001b[1;33m\u001b[0m\u001b[1;33m\u001b[0m\u001b[0m\n\u001b[0m\u001b[0;32m   3205\u001b[0m \u001b[1;33m\u001b[0m\u001b[0m\n\u001b[0;32m   3206\u001b[0m         \u001b[1;32mif\u001b[0m \u001b[0mpath_or_buf\u001b[0m \u001b[1;32mis\u001b[0m \u001b[1;32mNone\u001b[0m\u001b[1;33m:\u001b[0m\u001b[1;33m\u001b[0m\u001b[1;33m\u001b[0m\u001b[0m\n",
      "\u001b[1;32mD:\\Anaconda\\lib\\site-packages\\pandas\\io\\formats\\csvs.py\u001b[0m in \u001b[0;36msave\u001b[1;34m(self)\u001b[0m\n\u001b[0;32m    182\u001b[0m             \u001b[0mclose\u001b[0m \u001b[1;33m=\u001b[0m \u001b[1;32mFalse\u001b[0m\u001b[1;33m\u001b[0m\u001b[1;33m\u001b[0m\u001b[0m\n\u001b[0;32m    183\u001b[0m         \u001b[1;32melse\u001b[0m\u001b[1;33m:\u001b[0m\u001b[1;33m\u001b[0m\u001b[1;33m\u001b[0m\u001b[0m\n\u001b[1;32m--> 184\u001b[1;33m             f, handles = get_handle(\n\u001b[0m\u001b[0;32m    185\u001b[0m                 \u001b[0mself\u001b[0m\u001b[1;33m.\u001b[0m\u001b[0mpath_or_buf\u001b[0m\u001b[1;33m,\u001b[0m\u001b[1;33m\u001b[0m\u001b[1;33m\u001b[0m\u001b[0m\n\u001b[0;32m    186\u001b[0m                 \u001b[0mself\u001b[0m\u001b[1;33m.\u001b[0m\u001b[0mmode\u001b[0m\u001b[1;33m,\u001b[0m\u001b[1;33m\u001b[0m\u001b[1;33m\u001b[0m\u001b[0m\n",
      "\u001b[1;32mD:\\Anaconda\\lib\\site-packages\\pandas\\io\\common.py\u001b[0m in \u001b[0;36mget_handle\u001b[1;34m(path_or_buf, mode, encoding, compression, memory_map, is_text)\u001b[0m\n\u001b[0;32m    426\u001b[0m         \u001b[1;32mif\u001b[0m \u001b[0mencoding\u001b[0m\u001b[1;33m:\u001b[0m\u001b[1;33m\u001b[0m\u001b[1;33m\u001b[0m\u001b[0m\n\u001b[0;32m    427\u001b[0m             \u001b[1;31m# Encoding\u001b[0m\u001b[1;33m\u001b[0m\u001b[1;33m\u001b[0m\u001b[1;33m\u001b[0m\u001b[0m\n\u001b[1;32m--> 428\u001b[1;33m             \u001b[0mf\u001b[0m \u001b[1;33m=\u001b[0m \u001b[0mopen\u001b[0m\u001b[1;33m(\u001b[0m\u001b[0mpath_or_buf\u001b[0m\u001b[1;33m,\u001b[0m \u001b[0mmode\u001b[0m\u001b[1;33m,\u001b[0m \u001b[0mencoding\u001b[0m\u001b[1;33m=\u001b[0m\u001b[0mencoding\u001b[0m\u001b[1;33m,\u001b[0m \u001b[0mnewline\u001b[0m\u001b[1;33m=\u001b[0m\u001b[1;34m\"\"\u001b[0m\u001b[1;33m)\u001b[0m\u001b[1;33m\u001b[0m\u001b[1;33m\u001b[0m\u001b[0m\n\u001b[0m\u001b[0;32m    429\u001b[0m         \u001b[1;32melif\u001b[0m \u001b[0mis_text\u001b[0m\u001b[1;33m:\u001b[0m\u001b[1;33m\u001b[0m\u001b[1;33m\u001b[0m\u001b[0m\n\u001b[0;32m    430\u001b[0m             \u001b[1;31m# No explicit encoding\u001b[0m\u001b[1;33m\u001b[0m\u001b[1;33m\u001b[0m\u001b[1;33m\u001b[0m\u001b[0m\n",
      "\u001b[1;31mPermissionError\u001b[0m: [Errno 13] Permission denied: 'IIA2021-proj4-29.csv'"
     ]
    }
   ],
   "source": [
    "test_data, test_dclass = load_data('test.csv', True)\n",
    "test_tdata = np.delete(test_data, 0, 1)\n",
    "\n",
    "for i in range(len(test_tdata[0])):\n",
    "    if type(test_tdata[0][i]) == str:\n",
    "        values = np.unique(test_tdata[:,i])\n",
    "        for j in range(len(test_tdata)):\n",
    "            test_tdata[j][i] = np.where(values == test_tdata[j][i])[0][0]\n",
    "\n",
    "dtc.fit(airline_tdata, airline_target)\n",
    "predict = dtc.predict(test_tdata)\n",
    "\n",
    "save_data(\"IIA2021-proj4-29.csv\", predict)"
   ]
  },
  {
   "cell_type": "code",
   "execution_count": null,
   "metadata": {},
   "outputs": [],
   "source": []
  },
  {
   "cell_type": "code",
   "execution_count": null,
   "metadata": {},
   "outputs": [],
   "source": []
  }
 ],
 "metadata": {
  "kernelspec": {
   "display_name": "Python 3",
   "language": "python",
   "name": "python3"
  },
  "language_info": {
   "codemirror_mode": {
    "name": "ipython",
    "version": 3
   },
   "file_extension": ".py",
   "mimetype": "text/x-python",
   "name": "python",
   "nbconvert_exporter": "python",
   "pygments_lexer": "ipython3",
   "version": "3.8.3"
  }
 },
 "nbformat": 4,
 "nbformat_minor": 4
}
